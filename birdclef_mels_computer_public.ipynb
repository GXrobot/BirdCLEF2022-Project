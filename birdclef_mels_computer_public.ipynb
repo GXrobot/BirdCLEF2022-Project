{
  "cells": [
    {
      "cell_type": "markdown",
      "metadata": {
        "id": "restricted-somerset"
      },
      "source": [
        "# Notes"
      ],
      "id": "restricted-somerset"
    },
    {
      "cell_type": "code",
      "execution_count": 7,
      "metadata": {
        "id": "EjRpL1u9g_9C"
      },
      "outputs": [],
      "source": [
        " ! mkdir ~/.kaggle\n",
        " ! cp kaggle.json ~/.kaggle/\n",
        " ! chmod 600 ~/.kaggle/kaggle.json"
      ],
      "id": "EjRpL1u9g_9C"
    },
    {
      "cell_type": "code",
      "execution_count": 11,
      "metadata": {
        "id": "ibU_IMIihkFP",
        "colab": {
          "base_uri": "https://localhost:8080/"
        },
        "outputId": "30fcabe9-5f6a-4913-f22b-a9b8983eacc3"
      },
      "outputs": [
        {
          "output_type": "stream",
          "name": "stdout",
          "text": [
            "Mounted at /content/drive\n"
          ]
        }
      ],
      "source": [
        "from google.colab import drive\n",
        "drive.mount('/content/drive')"
      ],
      "id": "ibU_IMIihkFP"
    },
    {
      "cell_type": "code",
      "execution_count": 8,
      "metadata": {
        "colab": {
          "base_uri": "https://localhost:8080/"
        },
        "id": "E-58bbK_hhYG",
        "outputId": "40b892c5-0e77-42ff-d28a-ee05c4186762"
      },
      "outputs": [
        {
          "output_type": "stream",
          "name": "stdout",
          "text": [
            "Downloading birdclef-2022.zip to /content\n",
            "100% 6.12G/6.12G [00:58<00:00, 78.6MB/s]\n",
            "100% 6.12G/6.12G [00:58<00:00, 112MB/s] \n"
          ]
        }
      ],
      "source": [
        "# ! kaggle competitions download -c birdclef-2022 -p /content/drive/MyDrive/\n",
        "! kaggle competitions download -c birdclef-2022 -p /content/"
      ],
      "id": "E-58bbK_hhYG"
    },
    {
      "cell_type": "code",
      "execution_count": null,
      "metadata": {
        "id": "botC1VJTiEZu"
      },
      "outputs": [],
      "source": [
        "# ! mkdir /content/drive/MyDrive/birdclef-2022\n",
        "# ! unzip /content/drive/MyDrive/birdclef-2022.zip -d /content/drive/MyDrive/birdclef-2022\n",
        "\n",
        "! mkdir /content/birdclef-2022\n",
        "! unzip /content/birdclef-2022.zip -d /content/birdclef-2022"
      ],
      "id": "botC1VJTiEZu"
    },
    {
      "cell_type": "markdown",
      "metadata": {
        "id": "sexual-magic"
      },
      "source": [
        "I've released a [training kernel](https://www.kaggle.com/kneroma/clean-fast-simple-bird-identifier-training-colab) and an [inference kernel](https://www.kaggle.com/kneroma/clean-fast-simple-bird-identifier-inference). Both of these kernels use a set of pre-computed mels. Which can be found at:\n",
        "\n",
        "* https://www.kaggle.com/kneroma/kkiller-birdclef-mels-computer-d7-part1\n",
        "* https://www.kaggle.com/kneroma/kkiller-birdclef-mels-computer-d7-part2\n",
        "* https://www.kaggle.com/kneroma/kkiller-birdclef-mels-computer-d7-part3\n",
        "* https://www.kaggle.com/kneroma/kkiller-birdclef-mels-computer-d7-part4\n",
        "\n",
        "Unfortunately, these mels are static (7s audio extracts) and you can't get any customization from them. Here, I'm releasing the base kernel that generate them in order to allow everyone to be able to play with the params."
      ],
      "id": "sexual-magic"
    },
    {
      "cell_type": "code",
      "execution_count": null,
      "metadata": {
        "id": "following-cotton"
      },
      "outputs": [],
      "source": [
        ""
      ],
      "id": "following-cotton"
    },
    {
      "cell_type": "code",
      "execution_count": 2,
      "metadata": {
        "id": "increasing-industry"
      },
      "outputs": [],
      "source": [
        "import numpy as np\n",
        "import librosa as lb\n",
        "import librosa.display as lbd\n",
        "import soundfile as sf\n",
        "from  soundfile import SoundFile\n",
        "import pandas as pd\n",
        "from  IPython.display import Audio\n",
        "from pathlib import Path\n",
        "\n",
        "from matplotlib import pyplot as plt\n",
        "\n",
        "from tqdm.notebook import tqdm\n",
        "import joblib, json\n",
        "\n",
        "from  sklearn.model_selection  import StratifiedKFold"
      ],
      "id": "increasing-industry"
    },
    {
      "cell_type": "code",
      "execution_count": 3,
      "metadata": {
        "colab": {
          "base_uri": "https://localhost:8080/"
        },
        "id": "sexual-going",
        "outputId": "4a883113-e547-4560-fca3-fd1a66c0a7ad"
      },
      "outputs": [
        {
          "output_type": "stream",
          "name": "stdout",
          "text": [
            "[0, 14853]\n"
          ]
        }
      ],
      "source": [
        "PART_ID = 0 # The start index in the below list, by changing it you will compute mels on another subset\n",
        "PART_INDEXES = [0, 14853] \n",
        "# PART_INDEXES = [0  3713  7426 11139 14853] \n",
        "# PART_INDEXES = np.linspace(0, 14853, 5, dtype=np.intc)\n",
        "print(PART_INDEXES)\n"
      ],
      "id": "sexual-going"
    },
    {
      "cell_type": "code",
      "execution_count": 4,
      "metadata": {
        "id": "irish-registrar"
      },
      "outputs": [],
      "source": [
        "SR = 32_000\n",
        "DURATION = 7 \n",
        "SEED = 666\n",
        "\n",
        "DATA_ROOT = Path(\"birdclef-2022\")\n",
        "TRAIN_AUDIO_ROOT = Path(\"birdclef-2022/train_audio\")\n",
        "TRAIN_AUDIO_IMAGES_SAVE_ROOT = Path(\"/content/drive/MyDrive/audio_images\") # Where to save the mels images\n",
        "TRAIN_AUDIO_IMAGES_SAVE_ROOT.mkdir(exist_ok=True, parents=True)"
      ],
      "id": "irish-registrar"
    },
    {
      "cell_type": "code",
      "execution_count": 5,
      "metadata": {
        "colab": {
          "base_uri": "https://localhost:8080/"
        },
        "id": "noble-disabled",
        "outputId": "396fcf67-6d0d-4eee-fd9b-51779741e781"
      },
      "outputs": [
        {
          "output_type": "stream",
          "name": "stdout",
          "text": [
            "False\n",
            "False\n"
          ]
        }
      ],
      "source": [
        "print(DATA_ROOT.exists())\n",
        "print(TRAIN_AUDIO_ROOT.exists())"
      ],
      "id": "noble-disabled"
    },
    {
      "cell_type": "code",
      "execution_count": 13,
      "metadata": {
        "id": "after-classroom"
      },
      "outputs": [],
      "source": [
        "def get_audio_info(filepath):\n",
        "    \"\"\"Get some properties from  an audio file\"\"\"\n",
        "    with SoundFile(filepath) as f:\n",
        "        sr = f.samplerate\n",
        "        frames = f.frames\n",
        "        duration = float(frames)/sr\n",
        "    return {\"frames\": frames, \"sr\": sr, \"duration\": duration}"
      ],
      "id": "after-classroom"
    },
    {
      "cell_type": "code",
      "execution_count": 14,
      "metadata": {
        "id": "animated-ceramic"
      },
      "outputs": [],
      "source": [
        "def make_df(n_splits=5, seed=SEED, nrows=None):\n",
        "    \n",
        "    df = pd.read_csv(DATA_ROOT/\"train_metadata.csv\", nrows=nrows)\n",
        "\n",
        "    LABEL_IDS = {label: label_id for label_id,label in enumerate(sorted(df[\"primary_label\"].unique()))}\n",
        "    \n",
        "    df = df.iloc[PART_INDEXES[PART_ID]: PART_INDEXES[PART_ID+1]]\n",
        "\n",
        "    df[\"label_id\"] = df[\"primary_label\"].map(LABEL_IDS)\n",
        "\n",
        "    # df[\"filepath\"] = [str(TRAIN_AUDIO_ROOT/primary_label/filename) for primary_label,filename in zip(df.primary_label, df.filename) ]\n",
        "    df[\"filepath\"] = [str(TRAIN_AUDIO_ROOT/filename) for primary_label,filename in zip(df.primary_label, df.filename) ]\n",
        "\n",
        "    pool = joblib.Parallel(4)\n",
        "    mapper = joblib.delayed(get_audio_info)\n",
        "    tasks = [mapper(filepath) for filepath in df.filepath]\n",
        "\n",
        "    df = pd.concat([df, pd.DataFrame(pool(tqdm(tasks)))], axis=1, sort=False)\n",
        "    \n",
        "    skf = StratifiedKFold(n_splits=n_splits, random_state=seed, shuffle=True)\n",
        "    splits = skf.split(np.arange(len(df)), y=df.label_id.values)\n",
        "    df[\"fold\"] = -1\n",
        "\n",
        "    for fold, (train_set, val_set) in enumerate(splits):\n",
        "        \n",
        "        df.loc[df.index[val_set], \"fold\"] = fold\n",
        "\n",
        "    return LABEL_IDS, df"
      ],
      "id": "animated-ceramic"
    },
    {
      "cell_type": "code",
      "execution_count": null,
      "metadata": {
        "id": "satisfactory-removal"
      },
      "outputs": [],
      "source": [
        ""
      ],
      "id": "satisfactory-removal"
    },
    {
      "cell_type": "code",
      "execution_count": 15,
      "metadata": {
        "colab": {
          "base_uri": "https://localhost:8080/",
          "height": 701,
          "referenced_widgets": [
            "a15910d8447c420b97a6ee8fa7fd6910",
            "9d03bad15f8b48019890a84c823dbf09",
            "a6e93eb332e840d18640675566727fdd",
            "ee4cc75b09f448129fa3b66eb4894694",
            "4ce0b9033d5943c18581211c8615df82",
            "ad86f58bba504044b10ba5130efd942b",
            "5fcc88a040fd4e7b90736c2f44af93ea",
            "0144e7a3d98c4e6ca657e3f6951e54e1",
            "21c29ea4aae943cbab4bf8f0d0990bcf",
            "c69be9b528ae455ca839a54c2854e148",
            "72e381fd702b461b834c4688e38df201"
          ]
        },
        "id": "downtown-sudan",
        "outputId": "2e315508-2698-4f30-e2a2-d1aa74e0e982"
      },
      "outputs": [
        {
          "output_type": "display_data",
          "data": {
            "text/plain": [
              "  0%|          | 0/14852 [00:00<?, ?it/s]"
            ],
            "application/vnd.jupyter.widget-view+json": {
              "version_major": 2,
              "version_minor": 0,
              "model_id": "a15910d8447c420b97a6ee8fa7fd6910"
            }
          },
          "metadata": {}
        },
        {
          "output_type": "stream",
          "name": "stderr",
          "text": [
            "/usr/local/lib/python3.7/dist-packages/sklearn/model_selection/_split.py:680: UserWarning: The least populated class in y has only 1 members, which is less than n_splits=5.\n",
            "  UserWarning,\n"
          ]
        },
        {
          "output_type": "stream",
          "name": "stdout",
          "text": [
            "(14852, 19)\n"
          ]
        },
        {
          "output_type": "execute_result",
          "data": {
            "text/plain": [
              "  primary_label                secondary_labels                     type  \\\n",
              "0       afrsil1                              []  ['call', 'flight call']   \n",
              "1       afrsil1  ['houspa', 'redava', 'zebdov']                 ['call']   \n",
              "2       afrsil1                              []         ['call', 'song']   \n",
              "3       afrsil1                              []   ['alarm call', 'call']   \n",
              "4       afrsil1                              []          ['flight call']   \n",
              "\n",
              "   latitude  longitude  scientific_name         common_name          author  \\\n",
              "0   12.3910    -1.4930  Euodice cantans  African Silverbill       Bram Piot   \n",
              "1   19.8801  -155.7254  Euodice cantans  African Silverbill        Dan Lane   \n",
              "2   16.2901   -16.0321  Euodice cantans  African Silverbill       Bram Piot   \n",
              "3   17.0922    54.2958  Euodice cantans  African Silverbill  Oscar Campbell   \n",
              "4   21.4581  -157.7252  Euodice cantans  African Silverbill   Ross Gallardy   \n",
              "\n",
              "                                             license  rating   time  \\\n",
              "0  Creative Commons Attribution-NonCommercial-Sha...     2.5  08:00   \n",
              "1  Creative Commons Attribution-NonCommercial-Sha...     3.5  08:30   \n",
              "2  Creative Commons Attribution-NonCommercial-Sha...     4.0  11:30   \n",
              "3  Creative Commons Attribution-NonCommercial-Sha...     4.0  11:00   \n",
              "4  Creative Commons Attribution-NonCommercial-Sha...     3.0  16:30   \n",
              "\n",
              "                                 url              filename  label_id  \\\n",
              "0  https://www.xeno-canto.org/125458  afrsil1/XC125458.ogg         0   \n",
              "1  https://www.xeno-canto.org/175522  afrsil1/XC175522.ogg         0   \n",
              "2  https://www.xeno-canto.org/177993  afrsil1/XC177993.ogg         0   \n",
              "3  https://www.xeno-canto.org/205893  afrsil1/XC205893.ogg         0   \n",
              "4  https://www.xeno-canto.org/207431  afrsil1/XC207431.ogg         0   \n",
              "\n",
              "                                         filepath   frames     sr    duration  \\\n",
              "0  birdclef-2022/train_audio/afrsil1/XC125458.ogg   355265  32000   11.102031   \n",
              "1  birdclef-2022/train_audio/afrsil1/XC175522.ogg  1504653  32000   47.020406   \n",
              "2  birdclef-2022/train_audio/afrsil1/XC177993.ogg  1720320  32000   53.760000   \n",
              "3  birdclef-2022/train_audio/afrsil1/XC205893.ogg  3375438  32000  105.482438   \n",
              "4  birdclef-2022/train_audio/afrsil1/XC207431.ogg   108669  32000    3.395906   \n",
              "\n",
              "   fold  \n",
              "0     3  \n",
              "1     3  \n",
              "2     2  \n",
              "3     1  \n",
              "4     4  "
            ],
            "text/html": [
              "\n",
              "  <div id=\"df-3977b888-0a6a-4921-95ac-7b689a0d59a2\">\n",
              "    <div class=\"colab-df-container\">\n",
              "      <div>\n",
              "<style scoped>\n",
              "    .dataframe tbody tr th:only-of-type {\n",
              "        vertical-align: middle;\n",
              "    }\n",
              "\n",
              "    .dataframe tbody tr th {\n",
              "        vertical-align: top;\n",
              "    }\n",
              "\n",
              "    .dataframe thead th {\n",
              "        text-align: right;\n",
              "    }\n",
              "</style>\n",
              "<table border=\"1\" class=\"dataframe\">\n",
              "  <thead>\n",
              "    <tr style=\"text-align: right;\">\n",
              "      <th></th>\n",
              "      <th>primary_label</th>\n",
              "      <th>secondary_labels</th>\n",
              "      <th>type</th>\n",
              "      <th>latitude</th>\n",
              "      <th>longitude</th>\n",
              "      <th>scientific_name</th>\n",
              "      <th>common_name</th>\n",
              "      <th>author</th>\n",
              "      <th>license</th>\n",
              "      <th>rating</th>\n",
              "      <th>time</th>\n",
              "      <th>url</th>\n",
              "      <th>filename</th>\n",
              "      <th>label_id</th>\n",
              "      <th>filepath</th>\n",
              "      <th>frames</th>\n",
              "      <th>sr</th>\n",
              "      <th>duration</th>\n",
              "      <th>fold</th>\n",
              "    </tr>\n",
              "  </thead>\n",
              "  <tbody>\n",
              "    <tr>\n",
              "      <th>0</th>\n",
              "      <td>afrsil1</td>\n",
              "      <td>[]</td>\n",
              "      <td>['call', 'flight call']</td>\n",
              "      <td>12.3910</td>\n",
              "      <td>-1.4930</td>\n",
              "      <td>Euodice cantans</td>\n",
              "      <td>African Silverbill</td>\n",
              "      <td>Bram Piot</td>\n",
              "      <td>Creative Commons Attribution-NonCommercial-Sha...</td>\n",
              "      <td>2.5</td>\n",
              "      <td>08:00</td>\n",
              "      <td>https://www.xeno-canto.org/125458</td>\n",
              "      <td>afrsil1/XC125458.ogg</td>\n",
              "      <td>0</td>\n",
              "      <td>birdclef-2022/train_audio/afrsil1/XC125458.ogg</td>\n",
              "      <td>355265</td>\n",
              "      <td>32000</td>\n",
              "      <td>11.102031</td>\n",
              "      <td>3</td>\n",
              "    </tr>\n",
              "    <tr>\n",
              "      <th>1</th>\n",
              "      <td>afrsil1</td>\n",
              "      <td>['houspa', 'redava', 'zebdov']</td>\n",
              "      <td>['call']</td>\n",
              "      <td>19.8801</td>\n",
              "      <td>-155.7254</td>\n",
              "      <td>Euodice cantans</td>\n",
              "      <td>African Silverbill</td>\n",
              "      <td>Dan Lane</td>\n",
              "      <td>Creative Commons Attribution-NonCommercial-Sha...</td>\n",
              "      <td>3.5</td>\n",
              "      <td>08:30</td>\n",
              "      <td>https://www.xeno-canto.org/175522</td>\n",
              "      <td>afrsil1/XC175522.ogg</td>\n",
              "      <td>0</td>\n",
              "      <td>birdclef-2022/train_audio/afrsil1/XC175522.ogg</td>\n",
              "      <td>1504653</td>\n",
              "      <td>32000</td>\n",
              "      <td>47.020406</td>\n",
              "      <td>3</td>\n",
              "    </tr>\n",
              "    <tr>\n",
              "      <th>2</th>\n",
              "      <td>afrsil1</td>\n",
              "      <td>[]</td>\n",
              "      <td>['call', 'song']</td>\n",
              "      <td>16.2901</td>\n",
              "      <td>-16.0321</td>\n",
              "      <td>Euodice cantans</td>\n",
              "      <td>African Silverbill</td>\n",
              "      <td>Bram Piot</td>\n",
              "      <td>Creative Commons Attribution-NonCommercial-Sha...</td>\n",
              "      <td>4.0</td>\n",
              "      <td>11:30</td>\n",
              "      <td>https://www.xeno-canto.org/177993</td>\n",
              "      <td>afrsil1/XC177993.ogg</td>\n",
              "      <td>0</td>\n",
              "      <td>birdclef-2022/train_audio/afrsil1/XC177993.ogg</td>\n",
              "      <td>1720320</td>\n",
              "      <td>32000</td>\n",
              "      <td>53.760000</td>\n",
              "      <td>2</td>\n",
              "    </tr>\n",
              "    <tr>\n",
              "      <th>3</th>\n",
              "      <td>afrsil1</td>\n",
              "      <td>[]</td>\n",
              "      <td>['alarm call', 'call']</td>\n",
              "      <td>17.0922</td>\n",
              "      <td>54.2958</td>\n",
              "      <td>Euodice cantans</td>\n",
              "      <td>African Silverbill</td>\n",
              "      <td>Oscar Campbell</td>\n",
              "      <td>Creative Commons Attribution-NonCommercial-Sha...</td>\n",
              "      <td>4.0</td>\n",
              "      <td>11:00</td>\n",
              "      <td>https://www.xeno-canto.org/205893</td>\n",
              "      <td>afrsil1/XC205893.ogg</td>\n",
              "      <td>0</td>\n",
              "      <td>birdclef-2022/train_audio/afrsil1/XC205893.ogg</td>\n",
              "      <td>3375438</td>\n",
              "      <td>32000</td>\n",
              "      <td>105.482438</td>\n",
              "      <td>1</td>\n",
              "    </tr>\n",
              "    <tr>\n",
              "      <th>4</th>\n",
              "      <td>afrsil1</td>\n",
              "      <td>[]</td>\n",
              "      <td>['flight call']</td>\n",
              "      <td>21.4581</td>\n",
              "      <td>-157.7252</td>\n",
              "      <td>Euodice cantans</td>\n",
              "      <td>African Silverbill</td>\n",
              "      <td>Ross Gallardy</td>\n",
              "      <td>Creative Commons Attribution-NonCommercial-Sha...</td>\n",
              "      <td>3.0</td>\n",
              "      <td>16:30</td>\n",
              "      <td>https://www.xeno-canto.org/207431</td>\n",
              "      <td>afrsil1/XC207431.ogg</td>\n",
              "      <td>0</td>\n",
              "      <td>birdclef-2022/train_audio/afrsil1/XC207431.ogg</td>\n",
              "      <td>108669</td>\n",
              "      <td>32000</td>\n",
              "      <td>3.395906</td>\n",
              "      <td>4</td>\n",
              "    </tr>\n",
              "  </tbody>\n",
              "</table>\n",
              "</div>\n",
              "      <button class=\"colab-df-convert\" onclick=\"convertToInteractive('df-3977b888-0a6a-4921-95ac-7b689a0d59a2')\"\n",
              "              title=\"Convert this dataframe to an interactive table.\"\n",
              "              style=\"display:none;\">\n",
              "        \n",
              "  <svg xmlns=\"http://www.w3.org/2000/svg\" height=\"24px\"viewBox=\"0 0 24 24\"\n",
              "       width=\"24px\">\n",
              "    <path d=\"M0 0h24v24H0V0z\" fill=\"none\"/>\n",
              "    <path d=\"M18.56 5.44l.94 2.06.94-2.06 2.06-.94-2.06-.94-.94-2.06-.94 2.06-2.06.94zm-11 1L8.5 8.5l.94-2.06 2.06-.94-2.06-.94L8.5 2.5l-.94 2.06-2.06.94zm10 10l.94 2.06.94-2.06 2.06-.94-2.06-.94-.94-2.06-.94 2.06-2.06.94z\"/><path d=\"M17.41 7.96l-1.37-1.37c-.4-.4-.92-.59-1.43-.59-.52 0-1.04.2-1.43.59L10.3 9.45l-7.72 7.72c-.78.78-.78 2.05 0 2.83L4 21.41c.39.39.9.59 1.41.59.51 0 1.02-.2 1.41-.59l7.78-7.78 2.81-2.81c.8-.78.8-2.07 0-2.86zM5.41 20L4 18.59l7.72-7.72 1.47 1.35L5.41 20z\"/>\n",
              "  </svg>\n",
              "      </button>\n",
              "      \n",
              "  <style>\n",
              "    .colab-df-container {\n",
              "      display:flex;\n",
              "      flex-wrap:wrap;\n",
              "      gap: 12px;\n",
              "    }\n",
              "\n",
              "    .colab-df-convert {\n",
              "      background-color: #E8F0FE;\n",
              "      border: none;\n",
              "      border-radius: 50%;\n",
              "      cursor: pointer;\n",
              "      display: none;\n",
              "      fill: #1967D2;\n",
              "      height: 32px;\n",
              "      padding: 0 0 0 0;\n",
              "      width: 32px;\n",
              "    }\n",
              "\n",
              "    .colab-df-convert:hover {\n",
              "      background-color: #E2EBFA;\n",
              "      box-shadow: 0px 1px 2px rgba(60, 64, 67, 0.3), 0px 1px 3px 1px rgba(60, 64, 67, 0.15);\n",
              "      fill: #174EA6;\n",
              "    }\n",
              "\n",
              "    [theme=dark] .colab-df-convert {\n",
              "      background-color: #3B4455;\n",
              "      fill: #D2E3FC;\n",
              "    }\n",
              "\n",
              "    [theme=dark] .colab-df-convert:hover {\n",
              "      background-color: #434B5C;\n",
              "      box-shadow: 0px 1px 3px 1px rgba(0, 0, 0, 0.15);\n",
              "      filter: drop-shadow(0px 1px 2px rgba(0, 0, 0, 0.3));\n",
              "      fill: #FFFFFF;\n",
              "    }\n",
              "  </style>\n",
              "\n",
              "      <script>\n",
              "        const buttonEl =\n",
              "          document.querySelector('#df-3977b888-0a6a-4921-95ac-7b689a0d59a2 button.colab-df-convert');\n",
              "        buttonEl.style.display =\n",
              "          google.colab.kernel.accessAllowed ? 'block' : 'none';\n",
              "\n",
              "        async function convertToInteractive(key) {\n",
              "          const element = document.querySelector('#df-3977b888-0a6a-4921-95ac-7b689a0d59a2');\n",
              "          const dataTable =\n",
              "            await google.colab.kernel.invokeFunction('convertToInteractive',\n",
              "                                                     [key], {});\n",
              "          if (!dataTable) return;\n",
              "\n",
              "          const docLinkHtml = 'Like what you see? Visit the ' +\n",
              "            '<a target=\"_blank\" href=https://colab.research.google.com/notebooks/data_table.ipynb>data table notebook</a>'\n",
              "            + ' to learn more about interactive tables.';\n",
              "          element.innerHTML = '';\n",
              "          dataTable['output_type'] = 'display_data';\n",
              "          await google.colab.output.renderOutput(dataTable, element);\n",
              "          const docLink = document.createElement('div');\n",
              "          docLink.innerHTML = docLinkHtml;\n",
              "          element.appendChild(docLink);\n",
              "        }\n",
              "      </script>\n",
              "    </div>\n",
              "  </div>\n",
              "  "
            ]
          },
          "metadata": {},
          "execution_count": 15
        }
      ],
      "source": [
        "LABEL_IDS, df = make_df(nrows=None)\n",
        "\n",
        "df.to_csv(\"/content/drive/MyDrive/rich_train_metadata.csv\", index=True)\n",
        "with open(\"/content/drive/MyDrive/LABEL_IDS.json\", \"w\") as f:\n",
        "    json.dump(LABEL_IDS, f)\n",
        "\n",
        "print(df.shape)\n",
        "df.head()"
      ],
      "id": "downtown-sudan"
    },
    {
      "cell_type": "code",
      "execution_count": null,
      "metadata": {
        "id": "according-wages"
      },
      "outputs": [],
      "source": [
        ""
      ],
      "id": "according-wages"
    },
    {
      "cell_type": "code",
      "execution_count": 16,
      "metadata": {
        "colab": {
          "base_uri": "https://localhost:8080/"
        },
        "id": "rotary-allocation",
        "outputId": "5c52d1d0-aa9a-4fa8-d495-822c5aa4f8a0"
      },
      "outputs": [
        {
          "output_type": "execute_result",
          "data": {
            "text/plain": [
              "1    2971\n",
              "0    2971\n",
              "3    2970\n",
              "2    2970\n",
              "4    2970\n",
              "Name: fold, dtype: int64"
            ]
          },
          "metadata": {},
          "execution_count": 16
        }
      ],
      "source": [
        "df[\"fold\"].value_counts()"
      ],
      "id": "rotary-allocation"
    },
    {
      "cell_type": "code",
      "execution_count": 17,
      "metadata": {
        "colab": {
          "base_uri": "https://localhost:8080/"
        },
        "id": "governing-ballot",
        "outputId": "ebc156d8-6a8f-494c-c420-a041205066a9"
      },
      "outputs": [
        {
          "output_type": "execute_result",
          "data": {
            "text/plain": [
              "brnowl     500\n",
              "skylar     500\n",
              "norcar     500\n",
              "mallar3    500\n",
              "houspa     500\n",
              "          ... \n",
              "puaioh       3\n",
              "layalb       3\n",
              "akikik       2\n",
              "crehon       2\n",
              "maupar       1\n",
              "Name: primary_label, Length: 152, dtype: int64"
            ]
          },
          "metadata": {},
          "execution_count": 17
        }
      ],
      "source": [
        "# pd.set_option('display.max_rows', None)\n",
        "df[\"primary_label\"].value_counts()"
      ],
      "id": "governing-ballot"
    },
    {
      "cell_type": "code",
      "execution_count": 18,
      "metadata": {
        "colab": {
          "base_uri": "https://localhost:8080/",
          "height": 282
        },
        "id": "industrial-quality",
        "outputId": "44a3b972-3bb3-44bf-a38a-f654b788c168"
      },
      "outputs": [
        {
          "output_type": "execute_result",
          "data": {
            "text/plain": [
              "<matplotlib.axes._subplots.AxesSubplot at 0x7fac8a902a50>"
            ]
          },
          "metadata": {},
          "execution_count": 18
        },
        {
          "output_type": "display_data",
          "data": {
            "text/plain": [
              "<Figure size 432x288 with 1 Axes>"
            ],
            "image/png": "[encoded data removed]"
          },
          "metadata": {
            "needs_background": "light"
          }
        }
      ],
      "source": [
        "df[\"duration\"].hist(bins=20)"
      ],
      "id": "industrial-quality"
    },
    {
      "cell_type": "code",
      "execution_count": 21,
      "metadata": {
        "colab": {
          "base_uri": "https://localhost:8080/",
          "height": 282
        },
        "id": "corporate-admission",
        "outputId": "f7e83c02-8d83-44a4-ccfa-071c23e4f99c"
      },
      "outputs": [
        {
          "output_type": "execute_result",
          "data": {
            "text/plain": [
              "<matplotlib.axes._subplots.AxesSubplot at 0x7fac8a86a690>"
            ]
          },
          "metadata": {},
          "execution_count": 21
        },
        {
          "output_type": "display_data",
          "data": {
            "text/plain": [
              "<Figure size 432x288 with 1 Axes>"
            ],
            "image/png": "[encoded data removed]"
          },
          "metadata": {
            "needs_background": "light"
          }
        }
      ],
      "source": [
        "df[\"duration\"].quantile(np.arange(0, 1, 0.01)).plot()"
      ],
      "id": "corporate-admission"
    },
    {
      "cell_type": "code",
      "execution_count": null,
      "metadata": {
        "id": "characteristic-sheet"
      },
      "outputs": [],
      "source": [
        ""
      ],
      "id": "characteristic-sheet"
    },
    {
      "cell_type": "code",
      "execution_count": 20,
      "metadata": {
        "id": "binary-little"
      },
      "outputs": [],
      "source": [
        "class MelSpecComputer:\n",
        "    def __init__(self, sr, n_mels, fmin, fmax, **kwargs):\n",
        "        self.sr = sr\n",
        "        self.n_mels = n_mels\n",
        "        self.fmin = fmin\n",
        "        self.fmax = fmax\n",
        "        kwargs[\"n_fft\"] = kwargs.get(\"n_fft\", self.sr//10)\n",
        "        kwargs[\"hop_length\"] = kwargs.get(\"hop_length\", self.sr//(10*4))\n",
        "        self.kwargs = kwargs\n",
        "\n",
        "    def __call__(self, y):\n",
        "        print(y)\n",
        "        #assert((y.shape)[0] == 2) \n",
        "        melspec = lb.feature.melspectrogram(\n",
        "            y, sr=self.sr, n_mels=self.n_mels, fmin=self.fmin, fmax=self.fmax, **self.kwargs,\n",
        "        )\n",
        "\n",
        "        melspec = lb.power_to_db(melspec).astype(np.float32)\n",
        "        return melspec"
      ],
      "id": "binary-little"
    },
    {
      "cell_type": "code",
      "execution_count": 22,
      "metadata": {
        "id": "female-establishment"
      },
      "outputs": [],
      "source": [
        "def mono_to_color(X, eps=1e-6, mean=None, std=None):\n",
        "    mean = mean or X.mean()\n",
        "    std = std or X.std()\n",
        "    X = (X - mean) / (std + eps)\n",
        "    \n",
        "    _min, _max = X.min(), X.max()\n",
        "\n",
        "    if (_max - _min) > eps:\n",
        "        V = np.clip(X, _min, _max)\n",
        "        V = 255 * (V - _min) / (_max - _min)\n",
        "        V = V.astype(np.uint8)\n",
        "    else:\n",
        "        V = np.zeros_like(X, dtype=np.uint8)\n",
        "\n",
        "    return V\n",
        " \n",
        "def crop_or_pad(y, length, is_train=True, start=None):\n",
        "    if len(y) < length:\n",
        "        y = np.concatenate([y, np.zeros(length - len(y))])\n",
        "        \n",
        "        n_repeats = length // len(y)\n",
        "        epsilon = length % len(y)\n",
        "        \n",
        "        y = np.concatenate([y]*n_repeats + [y[:epsilon]])\n",
        "        \n",
        "    elif len(y) > length:\n",
        "        if not is_train:\n",
        "            start = start or 0\n",
        "        else:\n",
        "            start = start or np.random.randint(len(y) - length)\n",
        "\n",
        "        y = y[start:start + length]\n",
        "\n",
        "    return y"
      ],
      "id": "female-establishment"
    },
    {
      "cell_type": "code",
      "execution_count": 23,
      "metadata": {
        "id": "commercial-tribe"
      },
      "outputs": [],
      "source": [
        "class AudioToImage:\n",
        "    def __init__(self, sr=SR, n_mels=128, fmin=0, fmax=None, duration=DURATION, step=None, res_type=\"kaiser_fast\", resample=True):\n",
        "\n",
        "        self.sr = sr\n",
        "        self.n_mels = n_mels\n",
        "        self.fmin = fmin\n",
        "        self.fmax = fmax or self.sr//2\n",
        "\n",
        "        self.duration = duration\n",
        "        self.audio_length = self.duration*self.sr\n",
        "        self.step = step or self.audio_length\n",
        "        \n",
        "        self.res_type = res_type\n",
        "        self.resample = resample\n",
        "\n",
        "        self.mel_spec_computer = MelSpecComputer(sr=self.sr, n_mels=self.n_mels, fmin=self.fmin,\n",
        "                                                 fmax=self.fmax)\n",
        "        \n",
        "    def audio_to_image(self, audio):\n",
        "        melspec = self.mel_spec_computer(audio) \n",
        "        image = mono_to_color(melspec)\n",
        "#         image = normalize(image, mean=None, std=None)\n",
        "        return image\n",
        "\n",
        "    def __call__(self, row, save=True):\n",
        "#       max_audio_duration = 10*self.duration\n",
        "#       init_audio_length = max_audio_duration*row.sr\n",
        "        \n",
        "#       start = 0 if row.duration <  max_audio_duration else np.random.randint(row.frames - init_audio_length)\n",
        "    \n",
        "      audio, orig_sr = sf.read(row.filepath, dtype=\"float32\")\n",
        "      audio = lb.to_mono(audio)\n",
        "\n",
        "      if self.resample and orig_sr != self.sr:\n",
        "        audio = lb.resample(audio, orig_sr, self.sr, res_type=self.res_type)\n",
        "        \n",
        "      audios = [audio[i:i+self.audio_length] for i in range(0, max(1, len(audio) - self.audio_length + 1), self.step)]\n",
        "      audios[-1] = crop_or_pad(audios[-1] , length=self.audio_length)\n",
        "      images = [self.audio_to_image(audio) for audio in audios]\n",
        "      images = np.stack(images)\n",
        "        \n",
        "      if save:\n",
        "        path = TRAIN_AUDIO_IMAGES_SAVE_ROOT/{row.filename}.npy\"\n",
        "        path.parent.mkdir(exist_ok=True, parents=True)\n",
        "        np.save(str(path), images)\n",
        "      else:\n",
        "        return  row.filename, images"
      ],
      "id": "commercial-tribe"
    },
    {
      "cell_type": "code",
      "execution_count": null,
      "metadata": {
        "id": "83be0a14"
      },
      "outputs": [],
      "source": [
        ""
      ],
      "id": "83be0a14"
    },
    {
      "cell_type": "code",
      "execution_count": null,
      "metadata": {
        "id": "8d37535d"
      },
      "outputs": [],
      "source": [
        ""
      ],
      "id": "8d37535d"
    },
    {
      "cell_type": "code",
      "execution_count": 24,
      "metadata": {
        "id": "valuable-darkness"
      },
      "outputs": [],
      "source": [
        "def get_audios_as_images(df):\n",
        "    pool = joblib.Parallel(4)\n",
        "    \n",
        "    converter = AudioToImage(step=int(DURATION*0.666*SR))\n",
        "    mapper = joblib.delayed(converter)\n",
        "    tasks = [mapper(row) for row in df.itertuples(False)]\n",
        "    \n",
        "    pool(tqdm(tasks))"
      ],
      "id": "valuable-darkness"
    },
    {
      "cell_type": "code",
      "execution_count": 25,
      "metadata": {
        "colab": {
          "base_uri": "https://localhost:8080/",
          "height": 103,
          "referenced_widgets": [
            "5cf4f05e4013458ea2ff5977b394174e",
            "42d76bbb53c04e119fccd59c7db5b2ea",
            "72fca22e8e5d4f5baf745b1ebeced898",
            "db83edc8aed641c5964b65ff1ac5f90d",
            "6fa7ac754ea94af2b2f6e91ee55b93c9",
            "245aa1c82768481cbdf0a31ed0008083",
            "73c6b45900564568b5b34499d881fbe8",
            "00b823ba29844384afaee10ca4e87672",
            "84f4dcd6b9894098ac12a1c88fafcd6a",
            "759e1d93771045fca8fd21dd68fe6140",
            "59d4d99648e047348288b67c8be3753c"
          ]
        },
        "id": "stupid-discretion",
        "outputId": "33bc67c4-e7c1-4c7e-fecf-4eb2d164460c"
      },
      "outputs": [
        {
          "output_type": "display_data",
          "data": {
            "text/plain": [
              "  0%|          | 0/14852 [00:00<?, ?it/s]"
            ],
            "application/vnd.jupyter.widget-view+json": {
              "version_major": 2,
              "version_minor": 0,
              "model_id": "5cf4f05e4013458ea2ff5977b394174e"
            }
          },
          "metadata": {}
        },
        {
          "output_type": "stream",
          "name": "stderr",
          "text": [
            "/usr/local/lib/python3.7/dist-packages/joblib/externals/loky/process_executor.py:705: UserWarning: A worker stopped while some jobs were given to the executor. This can be caused by a too short worker timeout or by a memory leak.\n",
            "  \"timeout or by a memory leak.\", UserWarning\n"
          ]
        }
      ],
      "source": [
        "get_audios_as_images(df)"
      ],
      "id": "stupid-discretion"
    },
    {
      "cell_type": "markdown",
      "metadata": {
        "id": "6TgbY58rwRdM"
      },
      "source": [
        "For Testing\n"
      ],
      "id": "6TgbY58rwRdM"
    },
    {
      "cell_type": "code",
      "execution_count": 1,
      "metadata": {
        "id": "veterinary-paste",
        "colab": {
          "base_uri": "https://localhost:8080/",
          "height": 235
        },
        "outputId": "f7697c61-1817-4fc2-fe83-47fb0f9736b9"
      },
      "outputs": [
        {
          "output_type": "error",
          "ename": "NameError",
          "evalue": "ignored",
          "traceback": [
            "\u001b[0;31m---------------------------------------------------------------------------\u001b[0m",
            "\u001b[0;31mNameError\u001b[0m                                 Traceback (most recent call last)",
            "\u001b[0;32m<ipython-input-1-71a59fdf8c1b>\u001b[0m in \u001b[0;36m<module>\u001b[0;34m()\u001b[0m\n\u001b[0;32m----> 1\u001b[0;31m \u001b[0;32mfor\u001b[0m \u001b[0mrow\u001b[0m \u001b[0;32min\u001b[0m \u001b[0mdf\u001b[0m\u001b[0;34m.\u001b[0m\u001b[0mitertuples\u001b[0m\u001b[0;34m(\u001b[0m\u001b[0;32mFalse\u001b[0m\u001b[0;34m)\u001b[0m\u001b[0;34m:\u001b[0m\u001b[0;34m\u001b[0m\u001b[0;34m\u001b[0m\u001b[0m\n\u001b[0m\u001b[1;32m      2\u001b[0m     \u001b[0maudio\u001b[0m\u001b[0;34m,\u001b[0m \u001b[0morig_sr\u001b[0m \u001b[0;34m=\u001b[0m \u001b[0msf\u001b[0m\u001b[0;34m.\u001b[0m\u001b[0mread\u001b[0m\u001b[0;34m(\u001b[0m\u001b[0mrow\u001b[0m\u001b[0;34m.\u001b[0m\u001b[0mfilepath\u001b[0m\u001b[0;34m,\u001b[0m \u001b[0mdtype\u001b[0m\u001b[0;34m=\u001b[0m\u001b[0;34m\"float32\"\u001b[0m\u001b[0;34m)\u001b[0m\u001b[0;34m\u001b[0m\u001b[0;34m\u001b[0m\u001b[0m\n\u001b[1;32m      3\u001b[0m     melspec = lb.feature.melspectrogram(\n\u001b[1;32m      4\u001b[0m             \u001b[0maudio\u001b[0m\u001b[0;34m,\u001b[0m \u001b[0msr\u001b[0m\u001b[0;34m=\u001b[0m\u001b[0;36m32000\u001b[0m\u001b[0;34m,\u001b[0m \u001b[0mn_mels\u001b[0m\u001b[0;34m=\u001b[0m\u001b[0;36m128\u001b[0m\u001b[0;34m,\u001b[0m \u001b[0mfmin\u001b[0m\u001b[0;34m=\u001b[0m\u001b[0;36m0\u001b[0m\u001b[0;34m,\u001b[0m \u001b[0mfmax\u001b[0m\u001b[0;34m=\u001b[0m\u001b[0;36m16000\u001b[0m\u001b[0;34m\u001b[0m\u001b[0;34m\u001b[0m\u001b[0m\n\u001b[1;32m      5\u001b[0m         )\n",
            "\u001b[0;31mNameError\u001b[0m: name 'df' is not defined"
          ]
        }
      ],
      "source": [
        "for row in df.itertuples(False):\n",
        "    audio, orig_sr = sf.read(row.filepath, dtype=\"float32\")\n",
        "    melspec = lb.feature.melspectrogram(\n",
        "            audio, sr=32000, n_mels=128, fmin=0, fmax=16000 \n",
        "        )\n",
        "    m = np.array(audio)\n",
        "    print(m.shape)"
      ],
      "id": "veterinary-paste"
    },
    {
      "cell_type": "code",
      "execution_count": 13,
      "metadata": {
        "id": "51fd9e14"
      },
      "outputs": [],
      "source": [
        "df = pd.read_csv(\"/content/drive/MyDrive/rich_train_metadata.csv\", nrows=None)"
      ],
      "id": "51fd9e14"
    },
    {
      "cell_type": "code",
      "execution_count": 20,
      "metadata": {
        "colab": {
          "base_uri": "https://localhost:8080/"
        },
        "id": "posted-tenant",
        "outputId": "cd3c6519-a78b-4e5c-cd4d-03240bd7a364"
      },
      "outputs": [
        {
          "output_type": "stream",
          "name": "stdout",
          "text": [
            "/content/drive/MyDrive/audio_images/commyn/commyn/XC548866.ogg.npy\n",
            "(961, 128, 281)\n"
          ]
        }
      ],
      "source": [
        "row = df.loc[df.duration.idxmax()]\n",
        "mels = np.load(str((TRAIN_AUDIO_IMAGES_SAVE_ROOT/row.primary_label/row.filename).as_posix() + \".npy\"))\n",
        "print(str((TRAIN_AUDIO_IMAGES_SAVE_ROOT/row.primary_label/row.filename).as_posix() + \".npy\"))\n",
        "print(mels.shape)"
      ],
      "id": "posted-tenant"
    },
    {
      "cell_type": "code",
      "execution_count": 30,
      "metadata": {
        "id": "frank-binary",
        "outputId": "96723184-cd00-415a-bee4-a88966d2c3cd",
        "colab": {
          "base_uri": "https://localhost:8080/",
          "height": 269
        }
      },
      "outputs": [
        {
          "output_type": "execute_result",
          "data": {
            "text/plain": [
              "<matplotlib.collections.QuadMesh at 0x7efc527a7390>"
            ]
          },
          "metadata": {},
          "execution_count": 30
        },
        {
          "output_type": "display_data",
          "data": {
            "text/plain": [
              "<Figure size 432x288 with 1 Axes>"
            ],
            "image/png": "[encoded data removed]"
          },
          "metadata": {}
        }
      ],
      "source": [
        "lbd.specshow(mels[10])"
      ],
      "id": "frank-binary"
    },
    {
      "cell_type": "code",
      "execution_count": 18,
      "metadata": {
        "id": "forbidden-williams",
        "colab": {
          "base_uri": "https://localhost:8080/"
        },
        "outputId": "747b6560-c08a-465e-a411-a42c5fdda88e"
      },
      "outputs": [
        {
          "output_type": "stream",
          "name": "stdout",
          "text": [
            "mv: cannot move '/content/drive/MyDrive/audio_images/afrsil1/afrsil1' to '/content/drive/MyDrive/audio_images/afrsil1': Directory not empty\n"
          ]
        }
      ],
      "source": [
        "! mv /content/drive/MyDrive/audio_images/afrsil1/afrsil1 /content/drive/MyDrive/audio_images/\n"
      ],
      "id": "forbidden-williams"
    }
  ],
  "metadata": {
    "colab": {
      "collapsed_sections": [],
      "name": "birdclef-mels-computer-public.ipynb",
      "provenance": []
    },
    "kernelspec": {
      "display_name": "Python 3 (ipykernel)",
      "language": "python",
      "name": "python3"
    },
    "language_info": {
      "codemirror_mode": {
        "name": "ipython",
        "version": 3
      },
      "file_extension": ".py",
      "mimetype": "text/x-python",
      "name": "python",
      "nbconvert_exporter": "python",
      "pygments_lexer": "ipython3",
      "version": "3.7.11"
    },
    "papermill": {
      "default_parameters": {},
      "duration": 4232.494119,
      "end_time": "2021-04-27T17:26:43.623151",
      "environment_variables": {},
      "exception": null,
      "input_path": "__notebook__.ipynb",
      "output_path": "__notebook__.ipynb",
      "parameters": {},
      "start_time": "2021-04-27T16:16:11.129032",
      "version": "2.3.2"
    },
    "widgets": {
      "application/vnd.jupyter.widget-state+json": {
        "a15910d8447c420b97a6ee8fa7fd6910": {
          "model_module": "@jupyter-widgets/controls",
          "model_name": "HBoxModel",
          "model_module_version": "1.5.0",
          "state": {
            "_dom_classes": [],
            "_model_module": "@jupyter-widgets/controls",
            "_model_module_version": "1.5.0",
            "_model_name": "HBoxModel",
            "_view_count": null,
            "_view_module": "@jupyter-widgets/controls",
            "_view_module_version": "1.5.0",
            "_view_name": "HBoxView",
            "box_style": "",
            "children": [
              "IPY_MODEL_9d03bad15f8b48019890a84c823dbf09",
              "IPY_MODEL_a6e93eb332e840d18640675566727fdd",
              "IPY_MODEL_ee4cc75b09f448129fa3b66eb4894694"
            ],
            "layout": "IPY_MODEL_4ce0b9033d5943c18581211c8615df82"
          }
        },
        "9d03bad15f8b48019890a84c823dbf09": {
          "model_module": "@jupyter-widgets/controls",
          "model_name": "HTMLModel",
          "model_module_version": "1.5.0",
          "state": {
            "_dom_classes": [],
            "_model_module": "@jupyter-widgets/controls",
            "_model_module_version": "1.5.0",
            "_model_name": "HTMLModel",
            "_view_count": null,
            "_view_module": "@jupyter-widgets/controls",
            "_view_module_version": "1.5.0",
            "_view_name": "HTMLView",
            "description": "",
            "description_tooltip": null,
            "layout": "IPY_MODEL_ad86f58bba504044b10ba5130efd942b",
            "placeholder": "​",
            "style": "IPY_MODEL_5fcc88a040fd4e7b90736c2f44af93ea",
            "value": "100%"
          }
        },
        "a6e93eb332e840d18640675566727fdd": {
          "model_module": "@jupyter-widgets/controls",
          "model_name": "FloatProgressModel",
          "model_module_version": "1.5.0",
          "state": {
            "_dom_classes": [],
            "_model_module": "@jupyter-widgets/controls",
            "_model_module_version": "1.5.0",
            "_model_name": "FloatProgressModel",
            "_view_count": null,
            "_view_module": "@jupyter-widgets/controls",
            "_view_module_version": "1.5.0",
            "_view_name": "ProgressView",
            "bar_style": "success",
            "description": "",
            "description_tooltip": null,
            "layout": "IPY_MODEL_0144e7a3d98c4e6ca657e3f6951e54e1",
            "max": 14852,
            "min": 0,
            "orientation": "horizontal",
            "style": "IPY_MODEL_21c29ea4aae943cbab4bf8f0d0990bcf",
            "value": 14852
          }
        },
        "ee4cc75b09f448129fa3b66eb4894694": {
          "model_module": "@jupyter-widgets/controls",
          "model_name": "HTMLModel",
          "model_module_version": "1.5.0",
          "state": {
            "_dom_classes": [],
            "_model_module": "@jupyter-widgets/controls",
            "_model_module_version": "1.5.0",
            "_model_name": "HTMLModel",
            "_view_count": null,
            "_view_module": "@jupyter-widgets/controls",
            "_view_module_version": "1.5.0",
            "_view_name": "HTMLView",
            "description": "",
            "description_tooltip": null,
            "layout": "IPY_MODEL_c69be9b528ae455ca839a54c2854e148",
            "placeholder": "​",
            "style": "IPY_MODEL_72e381fd702b461b834c4688e38df201",
            "value": " 14852/14852 [00:54&lt;00:00, 284.27it/s]"
          }
        },
        "4ce0b9033d5943c18581211c8615df82": {
          "model_module": "@jupyter-widgets/base",
          "model_name": "LayoutModel",
          "model_module_version": "1.2.0",
          "state": {
            "_model_module": "@jupyter-widgets/base",
            "_model_module_version": "1.2.0",
            "_model_name": "LayoutModel",
            "_view_count": null,
            "_view_module": "@jupyter-widgets/base",
            "_view_module_version": "1.2.0",
            "_view_name": "LayoutView",
            "align_content": null,
            "align_items": null,
            "align_self": null,
            "border": null,
            "bottom": null,
            "display": null,
            "flex": null,
            "flex_flow": null,
            "grid_area": null,
            "grid_auto_columns": null,
            "grid_auto_flow": null,
            "grid_auto_rows": null,
            "grid_column": null,
            "grid_gap": null,
            "grid_row": null,
            "grid_template_areas": null,
            "grid_template_columns": null,
            "grid_template_rows": null,
            "height": null,
            "justify_content": null,
            "justify_items": null,
            "left": null,
            "margin": null,
            "max_height": null,
            "max_width": null,
            "min_height": null,
            "min_width": null,
            "object_fit": null,
            "object_position": null,
            "order": null,
            "overflow": null,
            "overflow_x": null,
            "overflow_y": null,
            "padding": null,
            "right": null,
            "top": null,
            "visibility": null,
            "width": null
          }
        },
        "ad86f58bba504044b10ba5130efd942b": {
          "model_module": "@jupyter-widgets/base",
          "model_name": "LayoutModel",
          "model_module_version": "1.2.0",
          "state": {
            "_model_module": "@jupyter-widgets/base",
            "_model_module_version": "1.2.0",
            "_model_name": "LayoutModel",
            "_view_count": null,
            "_view_module": "@jupyter-widgets/base",
            "_view_module_version": "1.2.0",
            "_view_name": "LayoutView",
            "align_content": null,
            "align_items": null,
            "align_self": null,
            "border": null,
            "bottom": null,
            "display": null,
            "flex": null,
            "flex_flow": null,
            "grid_area": null,
            "grid_auto_columns": null,
            "grid_auto_flow": null,
            "grid_auto_rows": null,
            "grid_column": null,
            "grid_gap": null,
            "grid_row": null,
            "grid_template_areas": null,
            "grid_template_columns": null,
            "grid_template_rows": null,
            "height": null,
            "justify_content": null,
            "justify_items": null,
            "left": null,
            "margin": null,
            "max_height": null,
            "max_width": null,
            "min_height": null,
            "min_width": null,
            "object_fit": null,
            "object_position": null,
            "order": null,
            "overflow": null,
            "overflow_x": null,
            "overflow_y": null,
            "padding": null,
            "right": null,
            "top": null,
            "visibility": null,
            "width": null
          }
        },
        "5fcc88a040fd4e7b90736c2f44af93ea": {
          "model_module": "@jupyter-widgets/controls",
          "model_name": "DescriptionStyleModel",
          "model_module_version": "1.5.0",
          "state": {
            "_model_module": "@jupyter-widgets/controls",
            "_model_module_version": "1.5.0",
            "_model_name": "DescriptionStyleModel",
            "_view_count": null,
            "_view_module": "@jupyter-widgets/base",
            "_view_module_version": "1.2.0",
            "_view_name": "StyleView",
            "description_width": ""
          }
        },
        "0144e7a3d98c4e6ca657e3f6951e54e1": {
          "model_module": "@jupyter-widgets/base",
          "model_name": "LayoutModel",
          "model_module_version": "1.2.0",
          "state": {
            "_model_module": "@jupyter-widgets/base",
            "_model_module_version": "1.2.0",
            "_model_name": "LayoutModel",
            "_view_count": null,
            "_view_module": "@jupyter-widgets/base",
            "_view_module_version": "1.2.0",
            "_view_name": "LayoutView",
            "align_content": null,
            "align_items": null,
            "align_self": null,
            "border": null,
            "bottom": null,
            "display": null,
            "flex": null,
            "flex_flow": null,
            "grid_area": null,
            "grid_auto_columns": null,
            "grid_auto_flow": null,
            "grid_auto_rows": null,
            "grid_column": null,
            "grid_gap": null,
            "grid_row": null,
            "grid_template_areas": null,
            "grid_template_columns": null,
            "grid_template_rows": null,
            "height": null,
            "justify_content": null,
            "justify_items": null,
            "left": null,
            "margin": null,
            "max_height": null,
            "max_width": null,
            "min_height": null,
            "min_width": null,
            "object_fit": null,
            "object_position": null,
            "order": null,
            "overflow": null,
            "overflow_x": null,
            "overflow_y": null,
            "padding": null,
            "right": null,
            "top": null,
            "visibility": null,
            "width": null
          }
        },
        "21c29ea4aae943cbab4bf8f0d0990bcf": {
          "model_module": "@jupyter-widgets/controls",
          "model_name": "ProgressStyleModel",
          "model_module_version": "1.5.0",
          "state": {
            "_model_module": "@jupyter-widgets/controls",
            "_model_module_version": "1.5.0",
            "_model_name": "ProgressStyleModel",
            "_view_count": null,
            "_view_module": "@jupyter-widgets/base",
            "_view_module_version": "1.2.0",
            "_view_name": "StyleView",
            "bar_color": null,
            "description_width": ""
          }
        },
        "c69be9b528ae455ca839a54c2854e148": {
          "model_module": "@jupyter-widgets/base",
          "model_name": "LayoutModel",
          "model_module_version": "1.2.0",
          "state": {
            "_model_module": "@jupyter-widgets/base",
            "_model_module_version": "1.2.0",
            "_model_name": "LayoutModel",
            "_view_count": null,
            "_view_module": "@jupyter-widgets/base",
            "_view_module_version": "1.2.0",
            "_view_name": "LayoutView",
            "align_content": null,
            "align_items": null,
            "align_self": null,
            "border": null,
            "bottom": null,
            "display": null,
            "flex": null,
            "flex_flow": null,
            "grid_area": null,
            "grid_auto_columns": null,
            "grid_auto_flow": null,
            "grid_auto_rows": null,
            "grid_column": null,
            "grid_gap": null,
            "grid_row": null,
            "grid_template_areas": null,
            "grid_template_columns": null,
            "grid_template_rows": null,
            "height": null,
            "justify_content": null,
            "justify_items": null,
            "left": null,
            "margin": null,
            "max_height": null,
            "max_width": null,
            "min_height": null,
            "min_width": null,
            "object_fit": null,
            "object_position": null,
            "order": null,
            "overflow": null,
            "overflow_x": null,
            "overflow_y": null,
            "padding": null,
            "right": null,
            "top": null,
            "visibility": null,
            "width": null
          }
        },
        "72e381fd702b461b834c4688e38df201": {
          "model_module": "@jupyter-widgets/controls",
          "model_name": "DescriptionStyleModel",
          "model_module_version": "1.5.0",
          "state": {
            "_model_module": "@jupyter-widgets/controls",
            "_model_module_version": "1.5.0",
            "_model_name": "DescriptionStyleModel",
            "_view_count": null,
            "_view_module": "@jupyter-widgets/base",
            "_view_module_version": "1.2.0",
            "_view_name": "StyleView",
            "description_width": ""
          }
        },
        "5cf4f05e4013458ea2ff5977b394174e": {
          "model_module": "@jupyter-widgets/controls",
          "model_name": "HBoxModel",
          "model_module_version": "1.5.0",
          "state": {
            "_dom_classes": [],
            "_model_module": "@jupyter-widgets/controls",
            "_model_module_version": "1.5.0",
            "_model_name": "HBoxModel",
            "_view_count": null,
            "_view_module": "@jupyter-widgets/controls",
            "_view_module_version": "1.5.0",
            "_view_name": "HBoxView",
            "box_style": "",
            "children": [
              "IPY_MODEL_42d76bbb53c04e119fccd59c7db5b2ea",
              "IPY_MODEL_72fca22e8e5d4f5baf745b1ebeced898",
              "IPY_MODEL_db83edc8aed641c5964b65ff1ac5f90d"
            ],
            "layout": "IPY_MODEL_6fa7ac754ea94af2b2f6e91ee55b93c9"
          }
        },
        "42d76bbb53c04e119fccd59c7db5b2ea": {
          "model_module": "@jupyter-widgets/controls",
          "model_name": "HTMLModel",
          "model_module_version": "1.5.0",
          "state": {
            "_dom_classes": [],
            "_model_module": "@jupyter-widgets/controls",
            "_model_module_version": "1.5.0",
            "_model_name": "HTMLModel",
            "_view_count": null,
            "_view_module": "@jupyter-widgets/controls",
            "_view_module_version": "1.5.0",
            "_view_name": "HTMLView",
            "description": "",
            "description_tooltip": null,
            "layout": "IPY_MODEL_245aa1c82768481cbdf0a31ed0008083",
            "placeholder": "​",
            "style": "IPY_MODEL_73c6b45900564568b5b34499d881fbe8",
            "value": "100%"
          }
        },
        "72fca22e8e5d4f5baf745b1ebeced898": {
          "model_module": "@jupyter-widgets/controls",
          "model_name": "FloatProgressModel",
          "model_module_version": "1.5.0",
          "state": {
            "_dom_classes": [],
            "_model_module": "@jupyter-widgets/controls",
            "_model_module_version": "1.5.0",
            "_model_name": "FloatProgressModel",
            "_view_count": null,
            "_view_module": "@jupyter-widgets/controls",
            "_view_module_version": "1.5.0",
            "_view_name": "ProgressView",
            "bar_style": "success",
            "description": "",
            "description_tooltip": null,
            "layout": "IPY_MODEL_00b823ba29844384afaee10ca4e87672",
            "max": 14852,
            "min": 0,
            "orientation": "horizontal",
            "style": "IPY_MODEL_84f4dcd6b9894098ac12a1c88fafcd6a",
            "value": 14852
          }
        },
        "db83edc8aed641c5964b65ff1ac5f90d": {
          "model_module": "@jupyter-widgets/controls",
          "model_name": "HTMLModel",
          "model_module_version": "1.5.0",
          "state": {
            "_dom_classes": [],
            "_model_module": "@jupyter-widgets/controls",
            "_model_module_version": "1.5.0",
            "_model_name": "HTMLModel",
            "_view_count": null,
            "_view_module": "@jupyter-widgets/controls",
            "_view_module_version": "1.5.0",
            "_view_name": "HTMLView",
            "description": "",
            "description_tooltip": null,
            "layout": "IPY_MODEL_759e1d93771045fca8fd21dd68fe6140",
            "placeholder": "​",
            "style": "IPY_MODEL_59d4d99648e047348288b67c8be3753c",
            "value": " 14852/14852 [49:10&lt;00:00,  6.49it/s]"
          }
        },
        "6fa7ac754ea94af2b2f6e91ee55b93c9": {
          "model_module": "@jupyter-widgets/base",
          "model_name": "LayoutModel",
          "model_module_version": "1.2.0",
          "state": {
            "_model_module": "@jupyter-widgets/base",
            "_model_module_version": "1.2.0",
            "_model_name": "LayoutModel",
            "_view_count": null,
            "_view_module": "@jupyter-widgets/base",
            "_view_module_version": "1.2.0",
            "_view_name": "LayoutView",
            "align_content": null,
            "align_items": null,
            "align_self": null,
            "border": null,
            "bottom": null,
            "display": null,
            "flex": null,
            "flex_flow": null,
            "grid_area": null,
            "grid_auto_columns": null,
            "grid_auto_flow": null,
            "grid_auto_rows": null,
            "grid_column": null,
            "grid_gap": null,
            "grid_row": null,
            "grid_template_areas": null,
            "grid_template_columns": null,
            "grid_template_rows": null,
            "height": null,
            "justify_content": null,
            "justify_items": null,
            "left": null,
            "margin": null,
            "max_height": null,
            "max_width": null,
            "min_height": null,
            "min_width": null,
            "object_fit": null,
            "object_position": null,
            "order": null,
            "overflow": null,
            "overflow_x": null,
            "overflow_y": null,
            "padding": null,
            "right": null,
            "top": null,
            "visibility": null,
            "width": null
          }
        },
        "245aa1c82768481cbdf0a31ed0008083": {
          "model_module": "@jupyter-widgets/base",
          "model_name": "LayoutModel",
          "model_module_version": "1.2.0",
          "state": {
            "_model_module": "@jupyter-widgets/base",
            "_model_module_version": "1.2.0",
            "_model_name": "LayoutModel",
            "_view_count": null,
            "_view_module": "@jupyter-widgets/base",
            "_view_module_version": "1.2.0",
            "_view_name": "LayoutView",
            "align_content": null,
            "align_items": null,
            "align_self": null,
            "border": null,
            "bottom": null,
            "display": null,
            "flex": null,
            "flex_flow": null,
            "grid_area": null,
            "grid_auto_columns": null,
            "grid_auto_flow": null,
            "grid_auto_rows": null,
            "grid_column": null,
            "grid_gap": null,
            "grid_row": null,
            "grid_template_areas": null,
            "grid_template_columns": null,
            "grid_template_rows": null,
            "height": null,
            "justify_content": null,
            "justify_items": null,
            "left": null,
            "margin": null,
            "max_height": null,
            "max_width": null,
            "min_height": null,
            "min_width": null,
            "object_fit": null,
            "object_position": null,
            "order": null,
            "overflow": null,
            "overflow_x": null,
            "overflow_y": null,
            "padding": null,
            "right": null,
            "top": null,
            "visibility": null,
            "width": null
          }
        },
        "73c6b45900564568b5b34499d881fbe8": {
          "model_module": "@jupyter-widgets/controls",
          "model_name": "DescriptionStyleModel",
          "model_module_version": "1.5.0",
          "state": {
            "_model_module": "@jupyter-widgets/controls",
            "_model_module_version": "1.5.0",
            "_model_name": "DescriptionStyleModel",
            "_view_count": null,
            "_view_module": "@jupyter-widgets/base",
            "_view_module_version": "1.2.0",
            "_view_name": "StyleView",
            "description_width": ""
          }
        },
        "00b823ba29844384afaee10ca4e87672": {
          "model_module": "@jupyter-widgets/base",
          "model_name": "LayoutModel",
          "model_module_version": "1.2.0",
          "state": {
            "_model_module": "@jupyter-widgets/base",
            "_model_module_version": "1.2.0",
            "_model_name": "LayoutModel",
            "_view_count": null,
            "_view_module": "@jupyter-widgets/base",
            "_view_module_version": "1.2.0",
            "_view_name": "LayoutView",
            "align_content": null,
            "align_items": null,
            "align_self": null,
            "border": null,
            "bottom": null,
            "display": null,
            "flex": null,
            "flex_flow": null,
            "grid_area": null,
            "grid_auto_columns": null,
            "grid_auto_flow": null,
            "grid_auto_rows": null,
            "grid_column": null,
            "grid_gap": null,
            "grid_row": null,
            "grid_template_areas": null,
            "grid_template_columns": null,
            "grid_template_rows": null,
            "height": null,
            "justify_content": null,
            "justify_items": null,
            "left": null,
            "margin": null,
            "max_height": null,
            "max_width": null,
            "min_height": null,
            "min_width": null,
            "object_fit": null,
            "object_position": null,
            "order": null,
            "overflow": null,
            "overflow_x": null,
            "overflow_y": null,
            "padding": null,
            "right": null,
            "top": null,
            "visibility": null,
            "width": null
          }
        },
        "84f4dcd6b9894098ac12a1c88fafcd6a": {
          "model_module": "@jupyter-widgets/controls",
          "model_name": "ProgressStyleModel",
          "model_module_version": "1.5.0",
          "state": {
            "_model_module": "@jupyter-widgets/controls",
            "_model_module_version": "1.5.0",
            "_model_name": "ProgressStyleModel",
            "_view_count": null,
            "_view_module": "@jupyter-widgets/base",
            "_view_module_version": "1.2.0",
            "_view_name": "StyleView",
            "bar_color": null,
            "description_width": ""
          }
        },
        "759e1d93771045fca8fd21dd68fe6140": {
          "model_module": "@jupyter-widgets/base",
          "model_name": "LayoutModel",
          "model_module_version": "1.2.0",
          "state": {
            "_model_module": "@jupyter-widgets/base",
            "_model_module_version": "1.2.0",
            "_model_name": "LayoutModel",
            "_view_count": null,
            "_view_module": "@jupyter-widgets/base",
            "_view_module_version": "1.2.0",
            "_view_name": "LayoutView",
            "align_content": null,
            "align_items": null,
            "align_self": null,
            "border": null,
            "bottom": null,
            "display": null,
            "flex": null,
            "flex_flow": null,
            "grid_area": null,
            "grid_auto_columns": null,
            "grid_auto_flow": null,
            "grid_auto_rows": null,
            "grid_column": null,
            "grid_gap": null,
            "grid_row": null,
            "grid_template_areas": null,
            "grid_template_columns": null,
            "grid_template_rows": null,
            "height": null,
            "justify_content": null,
            "justify_items": null,
            "left": null,
            "margin": null,
            "max_height": null,
            "max_width": null,
            "min_height": null,
            "min_width": null,
            "object_fit": null,
            "object_position": null,
            "order": null,
            "overflow": null,
            "overflow_x": null,
            "overflow_y": null,
            "padding": null,
            "right": null,
            "top": null,
            "visibility": null,
            "width": null
          }
        },
        "59d4d99648e047348288b67c8be3753c": {
          "model_module": "@jupyter-widgets/controls",
          "model_name": "DescriptionStyleModel",
          "model_module_version": "1.5.0",
          "state": {
            "_model_module": "@jupyter-widgets/controls",
            "_model_module_version": "1.5.0",
            "_model_name": "DescriptionStyleModel",
            "_view_count": null,
            "_view_module": "@jupyter-widgets/base",
            "_view_module_version": "1.2.0",
            "_view_name": "StyleView",
            "description_width": ""
          }
        }
      }
    }
  },
  "nbformat": 4,
  "nbformat_minor": 5
}