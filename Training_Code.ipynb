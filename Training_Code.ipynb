{
  "nbformat": 4,
  "nbformat_minor": 0,
  "metadata": {
    "colab": {
      "name": "Training_Code.ipynb",
      "provenance": [],
      "collapsed_sections": [],
      "mount_file_id": "1bXvU4U2vx9Gh2wb6H9bziDQ0-iGHxo79",
      "authorship_tag": "ABX9TyPLq4QFyetyBnULLDPQYAk2"
    },
    "kernelspec": {
      "name": "python3",
      "display_name": "Python 3"
    },
    "language_info": {
      "name": "python"
    }
  },
  "cells": [
    {
      "cell_type": "markdown",
      "source": [
        "Training Jupyter Notebook"
      ],
      "metadata": {
        "id": "Z4vzsXtbgHMi"
      }
    },
    {
      "cell_type": "markdown",
      "source": [
        "Imports"
      ],
      "metadata": {
        "id": "naJXb7fNiyFu"
      }
    },
    {
      "cell_type": "code",
      "source": [
        "from google.colab import drive\n",
        "drive.mount('/content/drive')"
      ],
      "metadata": {
        "id": "rtLTAzrn5Q5d"
      },
      "execution_count": null,
      "outputs": []
    },
    {
      "cell_type": "code",
      "source": [
        "# ! cp -vr /content/drive/MyDrive/audio_images/ /content/audio_images\n",
        "# ! cp -vr /content/drive/MyDrive/audio_images-20220324T215740Z-001.zip /content/\n",
        "! cp -vr /content/drive/MyDrive/audio_images.tar.gz /content/"
      ],
      "metadata": {
        "colab": {
          "base_uri": "https://localhost:8080/"
        },
        "id": "x_zReHXbriM1",
        "outputId": "09afabaf-98d6-45a1-9a98-2e9115fb222d"
      },
      "execution_count": 20,
      "outputs": [
        {
          "output_type": "stream",
          "name": "stdout",
          "text": [
            "'/content/drive/MyDrive/audio_images.tar.gz' -> '/content/audio_images.tar.gz'\n"
          ]
        }
      ]
    },
    {
      "cell_type": "code",
      "source": [
        "! tar -czvf audio_images.tar.gz /content/audio_images\n",
        "# ! unzip /content/audio_images-20220324T215740Z-001.zip\n"
      ],
      "metadata": {
        "id": "Y6q6hslG3pSN"
      },
      "execution_count": null,
      "outputs": []
    },
    {
      "cell_type": "code",
      "source": [
        "! du -h /content/audio_images/"
      ],
      "metadata": {
        "id": "_rfePjkjwlbh"
      },
      "execution_count": null,
      "outputs": []
    },
    {
      "cell_type": "markdown",
      "source": [
        "Paths and Imports"
      ],
      "metadata": {
        "id": "c-TkYWqd5ZG8"
      }
    },
    {
      "cell_type": "code",
      "source": [
        "import pandas as pd, numpy as np, gc\n",
        "import librosa as lb\n",
        "import librosa.display as lbd\n",
        "\n",
        "# from kaggle_datasets import KaggleDatasets\n",
        "import tensorflow as tf, re, math\n",
        "import tensorflow.keras.backend as K\n",
        "\n",
        "import matplotlib.pyplot as plt\n",
        "\n",
        "from sklearn.model_selection import KFold\n",
        "from sklearn.preprocessing import LabelEncoder\n",
        "from sklearn.model_selection import train_test_split\n",
        "\n",
        "from pathlib import Path\n",
        "from tqdm import tqdm\n",
        "\n",
        "import json"
      ],
      "metadata": {
        "id": "NUlkmd-MgFbE"
      },
      "execution_count": 15,
      "outputs": []
    },
    {
      "cell_type": "code",
      "source": [
        "# TRAIN_AUDIO_IMAGES_SAVE_ROOT = Path(\"/content/drive/MyDrive/audio_images\")\n",
        "TRAIN_AUDIO_IMAGES_SAVE_ROOT = Path(\"/content/audio_images\")\n",
        "\n",
        "MODEL_SAVE_ROOT = Path(\"/content/drive/MyDrive/model_save\")\n",
        "\n",
        "# Threshold for no-call detector\n",
        "BIRD_CALL_PROB = 0.5\n",
        "\n",
        "# No Call Label\n",
        "NO_CALL = \"no_call\"\n",
        "\n",
        "NUM_FOLDS = 5"
      ],
      "metadata": {
        "id": "CY4sDFqK5ZaR"
      },
      "execution_count": 16,
      "outputs": []
    },
    {
      "cell_type": "markdown",
      "source": [
        "Some Birds Only Have A Few Training Samples and no-call will reduce their values even more"
      ],
      "metadata": {
        "id": "UG4ly87XooWI"
      }
    },
    {
      "cell_type": "code",
      "source": [
        "# ignore these birds for no-call\n",
        "NO_CALL_IGNORE = [ 'akikik', 'brnboo', 'bubsan', 'bulpet', 'coopet', 'crehon', 'ercfra', 'hawpet1', 'layalb', 'lessca', 'magpet1', 'mauala', 'pomjae', 'puaioh', 'shtsan']"
      ],
      "metadata": {
        "id": "cbTnhJwsouEv"
      },
      "execution_count": null,
      "outputs": []
    },
    {
      "cell_type": "markdown",
      "source": [
        "Connect To TPU"
      ],
      "metadata": {
        "id": "B2tWvp73ivlJ"
      }
    },
    {
      "cell_type": "code",
      "execution_count": 17,
      "metadata": {
        "id": "pEBEFDqpfAJo"
      },
      "outputs": [],
      "source": [
        "DEVICE = \"TPU\" # \"TPU\" or \"GPU\""
      ]
    },
    {
      "cell_type": "code",
      "source": [
        "# https://www.kaggle.com/code/itsuki9180/birdcall-using-tpu-train/notebook\n",
        "if DEVICE == \"TPU\":\n",
        "    print(\"connecting to TPU...\")\n",
        "    try:\n",
        "        tpu = tf.distribute.cluster_resolver.TPUClusterResolver()\n",
        "        print('Running on TPU ', tpu.master())\n",
        "    except ValueError:\n",
        "        print(\"Could not connect to TPU\")\n",
        "        tpu = None\n",
        "\n",
        "    if tpu:\n",
        "        try:\n",
        "            print(\"initializing  TPU ...\")\n",
        "            tf.config.experimental_connect_to_cluster(tpu)\n",
        "            tf.tpu.experimental.initialize_tpu_system(tpu)\n",
        "            strategy = tf.distribute.experimental.TPUStrategy(tpu)\n",
        "            print(\"TPU initialized\")\n",
        "        except _:\n",
        "            print(\"failed to initialize TPU\")\n",
        "    else:\n",
        "        DEVICE = \"GPU\"\n",
        "\n",
        "if DEVICE != \"TPU\":\n",
        "    print(\"Using default strategy for CPU and single GPU\")\n",
        "    strategy = tf.distribute.get_strategy()\n",
        "\n",
        "if DEVICE == \"GPU\":\n",
        "    print(\"Num GPUs Available: \", len(tf.config.experimental.list_physical_devices('GPU')))\n",
        "    \n",
        "\n",
        "AUTO     = tf.data.experimental.AUTOTUNE\n",
        "REPLICAS = strategy.num_replicas_in_sync\n",
        "print(f'REPLICAS: {REPLICAS}')"
      ],
      "metadata": {
        "colab": {
          "base_uri": "https://localhost:8080/"
        },
        "id": "ZfktkchNf5r1",
        "outputId": "a1b1a2b6-30cf-4ef5-8376-e9f90a7a7980"
      },
      "execution_count": 18,
      "outputs": [
        {
          "output_type": "stream",
          "name": "stdout",
          "text": [
            "connecting to TPU...\n",
            "Could not connect to TPU\n",
            "Using default strategy for CPU and single GPU\n",
            "Num GPUs Available:  0\n",
            "REPLICAS: 1\n"
          ]
        }
      ]
    },
    {
      "cell_type": "markdown",
      "source": [
        "Import Data"
      ],
      "metadata": {
        "id": "doJ2zx6Ri0am"
      }
    },
    {
      "cell_type": "code",
      "source": [
        "x_data = []\n",
        "y_data= []\n",
        "\n",
        "df = pd.read_csv('/content/drive/MyDrive/no_call_detect/nocalldetection_for_shortaudio_fold0.csv')\n",
        "for row in tqdm(df.itertuples(False)):\n",
        "    mels = np.load(str((TRAIN_AUDIO_IMAGES_SAVE_ROOT/row.filename).as_posix() + \".npy\"))\n",
        "    # print(mels.shape)\n",
        "\n",
        "    # extract the calculated call probability\n",
        "    temp_str = row.nocalldetection\n",
        "    call_prob = [float(x) for x in temp_str.split()]\n",
        "\n",
        "    # for each image, append each audio segment\n",
        "    for i in range(len(mels)):\n",
        "        x_data.append( (str((TRAIN_AUDIO_IMAGES_SAVE_ROOT/row.filename).as_posix() + \".npy\"), i) )\n",
        "\n",
        "        if (call_prob[i] >= BIRD_CALL_PROB):\n",
        "            y_data.append(row.primary_label)\n",
        "        else:\n",
        "            y_data.append(NO_CALL)\n",
        "\n",
        "\n"
      ],
      "metadata": {
        "id": "Zq0eR165i2El",
        "colab": {
          "base_uri": "https://localhost:8080/"
        },
        "outputId": "4cb04917-8a00-4879-e989-f11f25e114fd"
      },
      "execution_count": 19,
      "outputs": [
        {
          "output_type": "stream",
          "name": "stderr",
          "text": [
            "14852it [00:43, 339.47it/s]\n"
          ]
        }
      ]
    },
    {
      "cell_type": "markdown",
      "source": [
        ""
      ],
      "metadata": {
        "id": "PwVx9GJFnHXQ"
      }
    },
    {
      "cell_type": "code",
      "source": [
        "print(len(x_data))\n",
        "print(len(y_data))"
      ],
      "metadata": {
        "colab": {
          "base_uri": "https://localhost:8080/"
        },
        "id": "YVjV_eFOJC91",
        "outputId": "51cf4a5b-e50b-46f6-b9c2-9f32e6abb631"
      },
      "execution_count": 20,
      "outputs": [
        {
          "output_type": "stream",
          "name": "stdout",
          "text": [
            "144843\n",
            "144843\n"
          ]
        }
      ]
    },
    {
      "cell_type": "code",
      "source": [
        "le = LabelEncoder()\n",
        "le.classes_ = np.load(MODEL_SAVE_ROOT/\"classes.npy\")\n",
        "y_data = le.fit_transform(y_data)\n",
        "le_name_mapping = dict(zip(le.classes_.astype(str), le.transform(le.classes_)))\n",
        "print(le_name_mapping)\n",
        "\n",
        "# np.save(MODEL_SAVE_ROOT/\"classes.npy\", le.classes_)"
      ],
      "metadata": {
        "colab": {
          "base_uri": "https://localhost:8080/"
        },
        "id": "WVtZKnILN-Mg",
        "outputId": "765e9dc7-d034-4016-f4fe-a15de0f3c833"
      },
      "execution_count": 21,
      "outputs": [
        {
          "output_type": "stream",
          "name": "stdout",
          "text": [
            "{'afrsil1': 0, 'akekee': 1, 'akepa1': 2, 'akiapo': 3, 'akikik': 4, 'amewig': 5, 'aniani': 6, 'apapan': 7, 'arcter': 8, 'barpet': 9, 'bcnher': 10, 'belkin1': 11, 'bkbplo': 12, 'bknsti': 13, 'bkwpet': 14, 'blkfra': 15, 'blknod': 16, 'bongul': 17, 'brant': 18, 'brnboo': 19, 'brnnod': 20, 'brnowl': 21, 'brtcur': 22, 'bubsan': 23, 'buffle': 24, 'bulpet': 25, 'burpar': 26, 'buwtea': 27, 'cacgoo1': 28, 'calqua': 29, 'cangoo': 30, 'canvas': 31, 'caster1': 32, 'categr': 33, 'chbsan': 34, 'chemun': 35, 'chukar': 36, 'cintea': 37, 'comgal1': 38, 'commyn': 39, 'compea': 40, 'comsan': 41, 'comwax': 42, 'coopet': 43, 'crehon': 44, 'dunlin': 45, 'elepai': 46, 'ercfra': 47, 'eurwig': 48, 'fragul': 49, 'gadwal': 50, 'gamqua': 51, 'glwgul': 52, 'gnwtea': 53, 'golphe': 54, 'grbher3': 55, 'grefri': 56, 'gresca': 57, 'gryfra': 58, 'gwfgoo': 59, 'hawama': 60, 'hawcoo': 61, 'hawcre': 62, 'hawgoo': 63, 'hawhaw': 64, 'hawpet1': 65, 'hoomer': 66, 'houfin': 67, 'houspa': 68, 'hudgod': 69, 'iiwi': 70, 'incter1': 71, 'jabwar': 72, 'japqua': 73, 'kalphe': 74, 'kauama': 75, 'laugul': 76, 'layalb': 77, 'lcspet': 78, 'leasan': 79, 'leater1': 80, 'lessca': 81, 'lesyel': 82, 'lobdow': 83, 'lotjae': 84, 'madpet': 85, 'magpet1': 86, 'mallar3': 87, 'masboo': 88, 'mauala': 89, 'maupar': 90, 'merlin': 91, 'mitpar': 92, 'moudov': 93, 'no_call': 94, 'norcar': 95, 'norhar2': 96, 'normoc': 97, 'norpin': 98, 'norsho': 99, 'nutman': 100, 'oahama': 101, 'omao': 102, 'osprey': 103, 'pagplo': 104, 'palila': 105, 'parjae': 106, 'pecsan': 107, 'peflov': 108, 'perfal': 109, 'pibgre': 110, 'pomjae': 111, 'puaioh': 112, 'reccar': 113, 'redava': 114, 'redjun': 115, 'redpha1': 116, 'refboo': 117, 'rempar': 118, 'rettro': 119, 'ribgul': 120, 'rinduc': 121, 'rinphe': 122, 'rocpig': 123, 'rorpar': 124, 'rudtur': 125, 'ruff': 126, 'saffin': 127, 'sander': 128, 'semplo': 129, 'sheowl': 130, 'shtsan': 131, 'skylar': 132, 'snogoo': 133, 'sooshe': 134, 'sooter1': 135, 'sopsku1': 136, 'sora': 137, 'spodov': 138, 'sposan': 139, 'towsol': 140, 'wantat1': 141, 'warwhe1': 142, 'wesmea': 143, 'wessan': 144, 'wetshe': 145, 'whfibi': 146, 'whiter': 147, 'whttro': 148, 'wiltur': 149, 'yebcar': 150, 'yefcan': 151, 'zebdov': 152}\n"
          ]
        }
      ]
    },
    {
      "cell_type": "code",
      "source": [
        "for i in range(3):\n",
        "    print(x_data[i])\n",
        "    print(y_data[i])"
      ],
      "metadata": {
        "colab": {
          "base_uri": "https://localhost:8080/"
        },
        "id": "JLwOWjJyUw0z",
        "outputId": "3d95c7c0-5ef7-4f7c-924f-522270fb55d1"
      },
      "execution_count": 22,
      "outputs": [
        {
          "output_type": "stream",
          "name": "stdout",
          "text": [
            "('/content/audio_images/afrsil1/XC125458.ogg.npy', 0)\n",
            "0\n",
            "('/content/audio_images/afrsil1/XC125458.ogg.npy', 1)\n",
            "0\n",
            "('/content/audio_images/afrsil1/XC125458.ogg.npy', 2)\n",
            "94\n"
          ]
        }
      ]
    },
    {
      "cell_type": "markdown",
      "source": [
        "Split Into Train and Validation Sets"
      ],
      "metadata": {
        "id": "N3XTSGSUhP1b"
      }
    },
    {
      "cell_type": "code",
      "source": [
        "x_train, x_val, y_train, y_val = train_test_split(x_data, y_data, test_size=0.1, stratify=y_data)"
      ],
      "metadata": {
        "colab": {
          "base_uri": "https://localhost:8080/",
          "height": 572
        },
        "id": "Dl-k6mjxhPL4",
        "outputId": "afc5e304-f1c7-4f68-ca42-62dbbcff213c"
      },
      "execution_count": 23,
      "outputs": [
        {
          "output_type": "error",
          "ename": "ValueError",
          "evalue": "ignored",
          "traceback": [
            "\u001b[0;31m---------------------------------------------------------------------------\u001b[0m",
            "\u001b[0;31mValueError\u001b[0m                                Traceback (most recent call last)",
            "\u001b[0;32m<ipython-input-23-2e1ce9b5fd9e>\u001b[0m in \u001b[0;36m<module>\u001b[0;34m()\u001b[0m\n\u001b[0;32m----> 1\u001b[0;31m \u001b[0mx_train\u001b[0m\u001b[0;34m,\u001b[0m \u001b[0mx_val\u001b[0m\u001b[0;34m,\u001b[0m \u001b[0my_train\u001b[0m\u001b[0;34m,\u001b[0m \u001b[0my_val\u001b[0m \u001b[0;34m=\u001b[0m \u001b[0mtrain_test_split\u001b[0m\u001b[0;34m(\u001b[0m\u001b[0mx_data\u001b[0m\u001b[0;34m,\u001b[0m \u001b[0my_data\u001b[0m\u001b[0;34m,\u001b[0m \u001b[0mtest_size\u001b[0m\u001b[0;34m=\u001b[0m\u001b[0;36m0.1\u001b[0m\u001b[0;34m,\u001b[0m \u001b[0mstratify\u001b[0m\u001b[0;34m=\u001b[0m\u001b[0my_data\u001b[0m\u001b[0;34m)\u001b[0m\u001b[0;34m\u001b[0m\u001b[0;34m\u001b[0m\u001b[0m\n\u001b[0m",
            "\u001b[0;32m/usr/local/lib/python3.7/dist-packages/sklearn/model_selection/_split.py\u001b[0m in \u001b[0;36mtrain_test_split\u001b[0;34m(test_size, train_size, random_state, shuffle, stratify, *arrays)\u001b[0m\n\u001b[1;32m   2439\u001b[0m         \u001b[0mcv\u001b[0m \u001b[0;34m=\u001b[0m \u001b[0mCVClass\u001b[0m\u001b[0;34m(\u001b[0m\u001b[0mtest_size\u001b[0m\u001b[0;34m=\u001b[0m\u001b[0mn_test\u001b[0m\u001b[0;34m,\u001b[0m \u001b[0mtrain_size\u001b[0m\u001b[0;34m=\u001b[0m\u001b[0mn_train\u001b[0m\u001b[0;34m,\u001b[0m \u001b[0mrandom_state\u001b[0m\u001b[0;34m=\u001b[0m\u001b[0mrandom_state\u001b[0m\u001b[0;34m)\u001b[0m\u001b[0;34m\u001b[0m\u001b[0;34m\u001b[0m\u001b[0m\n\u001b[1;32m   2440\u001b[0m \u001b[0;34m\u001b[0m\u001b[0m\n\u001b[0;32m-> 2441\u001b[0;31m         \u001b[0mtrain\u001b[0m\u001b[0;34m,\u001b[0m \u001b[0mtest\u001b[0m \u001b[0;34m=\u001b[0m \u001b[0mnext\u001b[0m\u001b[0;34m(\u001b[0m\u001b[0mcv\u001b[0m\u001b[0;34m.\u001b[0m\u001b[0msplit\u001b[0m\u001b[0;34m(\u001b[0m\u001b[0mX\u001b[0m\u001b[0;34m=\u001b[0m\u001b[0marrays\u001b[0m\u001b[0;34m[\u001b[0m\u001b[0;36m0\u001b[0m\u001b[0;34m]\u001b[0m\u001b[0;34m,\u001b[0m \u001b[0my\u001b[0m\u001b[0;34m=\u001b[0m\u001b[0mstratify\u001b[0m\u001b[0;34m)\u001b[0m\u001b[0;34m)\u001b[0m\u001b[0;34m\u001b[0m\u001b[0;34m\u001b[0m\u001b[0m\n\u001b[0m\u001b[1;32m   2442\u001b[0m \u001b[0;34m\u001b[0m\u001b[0m\n\u001b[1;32m   2443\u001b[0m     return list(\n",
            "\u001b[0;32m/usr/local/lib/python3.7/dist-packages/sklearn/model_selection/_split.py\u001b[0m in \u001b[0;36msplit\u001b[0;34m(self, X, y, groups)\u001b[0m\n\u001b[1;32m   1598\u001b[0m         \"\"\"\n\u001b[1;32m   1599\u001b[0m         \u001b[0mX\u001b[0m\u001b[0;34m,\u001b[0m \u001b[0my\u001b[0m\u001b[0;34m,\u001b[0m \u001b[0mgroups\u001b[0m \u001b[0;34m=\u001b[0m \u001b[0mindexable\u001b[0m\u001b[0;34m(\u001b[0m\u001b[0mX\u001b[0m\u001b[0;34m,\u001b[0m \u001b[0my\u001b[0m\u001b[0;34m,\u001b[0m \u001b[0mgroups\u001b[0m\u001b[0;34m)\u001b[0m\u001b[0;34m\u001b[0m\u001b[0;34m\u001b[0m\u001b[0m\n\u001b[0;32m-> 1600\u001b[0;31m         \u001b[0;32mfor\u001b[0m \u001b[0mtrain\u001b[0m\u001b[0;34m,\u001b[0m \u001b[0mtest\u001b[0m \u001b[0;32min\u001b[0m \u001b[0mself\u001b[0m\u001b[0;34m.\u001b[0m\u001b[0m_iter_indices\u001b[0m\u001b[0;34m(\u001b[0m\u001b[0mX\u001b[0m\u001b[0;34m,\u001b[0m \u001b[0my\u001b[0m\u001b[0;34m,\u001b[0m \u001b[0mgroups\u001b[0m\u001b[0;34m)\u001b[0m\u001b[0;34m:\u001b[0m\u001b[0;34m\u001b[0m\u001b[0;34m\u001b[0m\u001b[0m\n\u001b[0m\u001b[1;32m   1601\u001b[0m             \u001b[0;32myield\u001b[0m \u001b[0mtrain\u001b[0m\u001b[0;34m,\u001b[0m \u001b[0mtest\u001b[0m\u001b[0;34m\u001b[0m\u001b[0;34m\u001b[0m\u001b[0m\n\u001b[1;32m   1602\u001b[0m \u001b[0;34m\u001b[0m\u001b[0m\n",
            "\u001b[0;32m/usr/local/lib/python3.7/dist-packages/sklearn/model_selection/_split.py\u001b[0m in \u001b[0;36m_iter_indices\u001b[0;34m(self, X, y, groups)\u001b[0m\n\u001b[1;32m   1939\u001b[0m         \u001b[0;32mif\u001b[0m \u001b[0mnp\u001b[0m\u001b[0;34m.\u001b[0m\u001b[0mmin\u001b[0m\u001b[0;34m(\u001b[0m\u001b[0mclass_counts\u001b[0m\u001b[0;34m)\u001b[0m \u001b[0;34m<\u001b[0m \u001b[0;36m2\u001b[0m\u001b[0;34m:\u001b[0m\u001b[0;34m\u001b[0m\u001b[0;34m\u001b[0m\u001b[0m\n\u001b[1;32m   1940\u001b[0m             raise ValueError(\n\u001b[0;32m-> 1941\u001b[0;31m                 \u001b[0;34m\"The least populated class in y has only 1\"\u001b[0m\u001b[0;34m\u001b[0m\u001b[0;34m\u001b[0m\u001b[0m\n\u001b[0m\u001b[1;32m   1942\u001b[0m                 \u001b[0;34m\" member, which is too few. The minimum\"\u001b[0m\u001b[0;34m\u001b[0m\u001b[0;34m\u001b[0m\u001b[0m\n\u001b[1;32m   1943\u001b[0m                 \u001b[0;34m\" number of groups for any class cannot\"\u001b[0m\u001b[0;34m\u001b[0m\u001b[0;34m\u001b[0m\u001b[0m\n",
            "\u001b[0;31mValueError\u001b[0m: The least populated class in y has only 1 member, which is too few. The minimum number of groups for any class cannot be less than 2."
          ]
        }
      ]
    },
    {
      "cell_type": "code",
      "source": [
        "print(type(y_data))\n",
        "counts = np.bincount(y_data)\n",
        "print(counts)\n",
        "\n",
        "\n",
        "y = le.inverse_transform(y_data)\n",
        "print(y)\n",
        "unique, counts = np.unique(y, return_counts=True)\n",
        "values = dict(zip(unique, counts))\n",
        "d = dict((k, v) for k, v in values.items() if v <= 20)\n",
        "print(d)"
      ],
      "metadata": {
        "colab": {
          "base_uri": "https://localhost:8080/"
        },
        "id": "e0sC8FkQjYY6",
        "outputId": "91686223-0174-42c4-f5f0-0e540205083e"
      },
      "execution_count": 41,
      "outputs": [
        {
          "output_type": "stream",
          "name": "stdout",
          "text": [
            "<class 'numpy.ndarray'>\n",
            "[   93    61   220   153    13   184    73   486  1153   103  1340   529\n",
            "   847   796   110   410    54   318   439    13    26  2203    66     3\n",
            "    61     3   120   172   241  1884  1774    75   979   530    26    26\n",
            "   180    84   980  3210   161  2070  1626     1    20  2365   133    17\n",
            "  1415   184   934  1763   203  1855    95   444    82    47   176  1410\n",
            "   143    37   489    33    24     4   141  3348  7070    43   395    32\n",
            "   719   278    86    39   407     2   145   265   545    19   669   370\n",
            "   245    27    19  2174    34    16    50   497   538  1479 39731  5792\n",
            "   160  9587   319   411   437    60   226  1509   155    46   286   217\n",
            "   489  1068  1410    17     7   279   255   513   263    39   175   118\n",
            "   410   116  1623   679  2226  1055    72  1211   271   310   570     3\n",
            "  5158  1217    36    85    28  1062   570   576  1267    49   524  4112\n",
            "   196    45   157    91    45   931    66   448   644]\n",
            "['afrsil1' 'afrsil1' 'no_call' ... 'zebdov' 'zebdov' 'zebdov']\n",
            "{'akikik': 13, 'brnboo': 13, 'bubsan': 3, 'bulpet': 3, 'coopet': 1, 'crehon': 20, 'ercfra': 17, 'hawpet1': 4, 'layalb': 2, 'lessca': 19, 'magpet1': 19, 'mauala': 16, 'pomjae': 17, 'puaioh': 7, 'shtsan': 3}\n"
          ]
        }
      ]
    },
    {
      "cell_type": "code",
      "source": [
        ""
      ],
      "metadata": {
        "id": "F4-CoEzojYdm"
      },
      "execution_count": null,
      "outputs": []
    },
    {
      "cell_type": "code",
      "source": [
        "def normalize(image):\n",
        "        image = image.astype(\"float32\", copy=False) / 255.0\n",
        "        image = np.stack([image, image, image])\n",
        "        return image"
      ],
      "metadata": {
        "id": "qV-uHxXMWi-U"
      },
      "execution_count": null,
      "outputs": []
    },
    {
      "cell_type": "code",
      "source": [
        ""
      ],
      "metadata": {
        "id": "5y_7AFilW3W2"
      },
      "execution_count": null,
      "outputs": []
    },
    {
      "cell_type": "code",
      "source": [
        "class CustomDataGen(tf.keras.utils.Sequence):\n",
        "    "
      ],
      "metadata": {
        "id": "ScPCHZBGaTlY"
      },
      "execution_count": null,
      "outputs": []
    },
    {
      "cell_type": "code",
      "source": [
        "tf.keras.applications.resnet_v2.ResNet50V2(\n",
        "    include_top=True,\n",
        "    weights='imagenet',\n",
        "    input_tensor=None,\n",
        "    input_shape=None,\n",
        "    pooling=None,\n",
        "    classes=1000,\n",
        "    classifier_activation='softmax'\n",
        ")"
      ],
      "metadata": {
        "id": "lRps4Ze7gcDj"
      },
      "execution_count": null,
      "outputs": []
    }
  ]
}